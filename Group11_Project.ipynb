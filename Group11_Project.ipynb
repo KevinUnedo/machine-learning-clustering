{
  "nbformat": 4,
  "nbformat_minor": 0,
  "metadata": {
    "colab": {
      "provenance": [],
      "include_colab_link": true
    },
    "kernelspec": {
      "name": "python3",
      "display_name": "Python 3"
    },
    "language_info": {
      "name": "python"
    }
  },
  "cells": [
    {
      "cell_type": "markdown",
      "metadata": {
        "id": "view-in-github",
        "colab_type": "text"
      },
      "source": [
        "<a href=\"https://colab.research.google.com/github/KevinUnedo/machine-learning-clustering/blob/main/Group11_Project.ipynb\" target=\"_parent\"><img src=\"https://colab.research.google.com/assets/colab-badge.svg\" alt=\"Open In Colab\"/></a>"
      ]
    },
    {
      "cell_type": "code",
      "source": [
        "# Taking user input for two numbers\n",
        "num1 = float(input(\"Enter the first number: \"))\n",
        "num2 = float(input(\"Enter the second number: \"))\n",
        "\n",
        "# Adding the numbers\n",
        "sum_result = num1 + num2\n",
        "\n",
        "# Displaying the result\n",
        "print(\"The sum of\", num1, \"and\", num2, \"is:\", sum_result)\n"
      ],
      "metadata": {
        "id": "JAR6EOBoWtZw",
        "colab": {
          "base_uri": "https://localhost:8080/"
        },
        "outputId": "fa3aedad-2d49-4536-a2f2-6b11a5200210"
      },
      "execution_count": 1,
      "outputs": [
        {
          "output_type": "stream",
          "name": "stdout",
          "text": [
            "Enter the first number: 1\n",
            "Enter the second number: 2\n",
            "The sum of 1.0 and 2.0 is: 3.0\n"
          ]
        }
      ]
    },
    {
      "cell_type": "markdown",
      "source": [],
      "metadata": {
        "id": "Xv3QbkEzWt1t"
      }
    }
  ]
}